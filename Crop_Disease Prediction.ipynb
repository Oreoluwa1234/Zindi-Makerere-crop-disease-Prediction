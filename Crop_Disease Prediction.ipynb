{
  "nbformat": 4,
  "nbformat_minor": 0,
  "metadata": {
    "colab": {
      "name": "Copy of Crop Challenge.ipynb",
      "provenance": []
    },
    "kernelspec": {
      "name": "python3",
      "display_name": "Python 3"
    },
    "language_info": {
      "name": "python"
    },
    "accelerator": "GPU"
  },
  "cells": [
    {
      "cell_type": "code",
      "execution_count": 68,
      "metadata": {
        "id": "bSZwVvB_h234"
      },
      "outputs": [],
      "source": [
        "import numpy as np\n",
        "import pandas as pd\n"
      ]
    },
    {
      "cell_type": "code",
      "source": [
        "from google.colab import drive\n",
        "drive.mount('/content/drive')"
      ],
      "metadata": {
        "colab": {
          "base_uri": "https://localhost:8080/"
        },
        "id": "Mn-zfLu0iCCI",
        "outputId": "15bdf450-6c9e-4a9d-d99b-8dcda123b277"
      },
      "execution_count": 69,
      "outputs": [
        {
          "output_type": "stream",
          "name": "stdout",
          "text": [
            "Drive already mounted at /content/drive; to attempt to forcibly remount, call drive.mount(\"/content/drive\", force_remount=True).\n"
          ]
        }
      ]
    },
    {
      "cell_type": "code",
      "source": [
        "train=pd.read_csv('/content/drive/MyDrive/Cropchallenge/CropchallengeTrain.csv')\n",
        "Test_data=pd.read_csv('/content/drive/MyDrive/Cropchallenge/CropchallengeTest.csv')"
      ],
      "metadata": {
        "id": "ehorIK0LjU_4"
      },
      "execution_count": 70,
      "outputs": []
    },
    {
      "cell_type": "code",
      "source": [
        "train.head()"
      ],
      "metadata": {
        "id": "1pL86jV9ji5M",
        "outputId": "20c6e7b0-7272-479a-cbb2-de3a8f091bf0",
        "colab": {
          "base_uri": "https://localhost:8080/",
          "height": 206
        }
      },
      "execution_count": 71,
      "outputs": [
        {
          "output_type": "execute_result",
          "data": {
            "text/plain": [
              "               Image_id  Label\n",
              "0  id_02amazy34fgh2.jpg      1\n",
              "1  id_02mh3w48pmyc9.jpg      0\n",
              "2  id_02rpb463h9d3w.jpg      0\n",
              "3  id_02wc3jeeao8ol.jpg      1\n",
              "4  id_03t2hapb8wz8p.jpg      1"
            ],
            "text/html": [
              "\n",
              "  <div id=\"df-95b6276a-cbba-4237-ba04-69cc674b7877\">\n",
              "    <div class=\"colab-df-container\">\n",
              "      <div>\n",
              "<style scoped>\n",
              "    .dataframe tbody tr th:only-of-type {\n",
              "        vertical-align: middle;\n",
              "    }\n",
              "\n",
              "    .dataframe tbody tr th {\n",
              "        vertical-align: top;\n",
              "    }\n",
              "\n",
              "    .dataframe thead th {\n",
              "        text-align: right;\n",
              "    }\n",
              "</style>\n",
              "<table border=\"1\" class=\"dataframe\">\n",
              "  <thead>\n",
              "    <tr style=\"text-align: right;\">\n",
              "      <th></th>\n",
              "      <th>Image_id</th>\n",
              "      <th>Label</th>\n",
              "    </tr>\n",
              "  </thead>\n",
              "  <tbody>\n",
              "    <tr>\n",
              "      <th>0</th>\n",
              "      <td>id_02amazy34fgh2.jpg</td>\n",
              "      <td>1</td>\n",
              "    </tr>\n",
              "    <tr>\n",
              "      <th>1</th>\n",
              "      <td>id_02mh3w48pmyc9.jpg</td>\n",
              "      <td>0</td>\n",
              "    </tr>\n",
              "    <tr>\n",
              "      <th>2</th>\n",
              "      <td>id_02rpb463h9d3w.jpg</td>\n",
              "      <td>0</td>\n",
              "    </tr>\n",
              "    <tr>\n",
              "      <th>3</th>\n",
              "      <td>id_02wc3jeeao8ol.jpg</td>\n",
              "      <td>1</td>\n",
              "    </tr>\n",
              "    <tr>\n",
              "      <th>4</th>\n",
              "      <td>id_03t2hapb8wz8p.jpg</td>\n",
              "      <td>1</td>\n",
              "    </tr>\n",
              "  </tbody>\n",
              "</table>\n",
              "</div>\n",
              "      <button class=\"colab-df-convert\" onclick=\"convertToInteractive('df-95b6276a-cbba-4237-ba04-69cc674b7877')\"\n",
              "              title=\"Convert this dataframe to an interactive table.\"\n",
              "              style=\"display:none;\">\n",
              "        \n",
              "  <svg xmlns=\"http://www.w3.org/2000/svg\" height=\"24px\"viewBox=\"0 0 24 24\"\n",
              "       width=\"24px\">\n",
              "    <path d=\"M0 0h24v24H0V0z\" fill=\"none\"/>\n",
              "    <path d=\"M18.56 5.44l.94 2.06.94-2.06 2.06-.94-2.06-.94-.94-2.06-.94 2.06-2.06.94zm-11 1L8.5 8.5l.94-2.06 2.06-.94-2.06-.94L8.5 2.5l-.94 2.06-2.06.94zm10 10l.94 2.06.94-2.06 2.06-.94-2.06-.94-.94-2.06-.94 2.06-2.06.94z\"/><path d=\"M17.41 7.96l-1.37-1.37c-.4-.4-.92-.59-1.43-.59-.52 0-1.04.2-1.43.59L10.3 9.45l-7.72 7.72c-.78.78-.78 2.05 0 2.83L4 21.41c.39.39.9.59 1.41.59.51 0 1.02-.2 1.41-.59l7.78-7.78 2.81-2.81c.8-.78.8-2.07 0-2.86zM5.41 20L4 18.59l7.72-7.72 1.47 1.35L5.41 20z\"/>\n",
              "  </svg>\n",
              "      </button>\n",
              "      \n",
              "  <style>\n",
              "    .colab-df-container {\n",
              "      display:flex;\n",
              "      flex-wrap:wrap;\n",
              "      gap: 12px;\n",
              "    }\n",
              "\n",
              "    .colab-df-convert {\n",
              "      background-color: #E8F0FE;\n",
              "      border: none;\n",
              "      border-radius: 50%;\n",
              "      cursor: pointer;\n",
              "      display: none;\n",
              "      fill: #1967D2;\n",
              "      height: 32px;\n",
              "      padding: 0 0 0 0;\n",
              "      width: 32px;\n",
              "    }\n",
              "\n",
              "    .colab-df-convert:hover {\n",
              "      background-color: #E2EBFA;\n",
              "      box-shadow: 0px 1px 2px rgba(60, 64, 67, 0.3), 0px 1px 3px 1px rgba(60, 64, 67, 0.15);\n",
              "      fill: #174EA6;\n",
              "    }\n",
              "\n",
              "    [theme=dark] .colab-df-convert {\n",
              "      background-color: #3B4455;\n",
              "      fill: #D2E3FC;\n",
              "    }\n",
              "\n",
              "    [theme=dark] .colab-df-convert:hover {\n",
              "      background-color: #434B5C;\n",
              "      box-shadow: 0px 1px 3px 1px rgba(0, 0, 0, 0.15);\n",
              "      filter: drop-shadow(0px 1px 2px rgba(0, 0, 0, 0.3));\n",
              "      fill: #FFFFFF;\n",
              "    }\n",
              "  </style>\n",
              "\n",
              "      <script>\n",
              "        const buttonEl =\n",
              "          document.querySelector('#df-95b6276a-cbba-4237-ba04-69cc674b7877 button.colab-df-convert');\n",
              "        buttonEl.style.display =\n",
              "          google.colab.kernel.accessAllowed ? 'block' : 'none';\n",
              "\n",
              "        async function convertToInteractive(key) {\n",
              "          const element = document.querySelector('#df-95b6276a-cbba-4237-ba04-69cc674b7877');\n",
              "          const dataTable =\n",
              "            await google.colab.kernel.invokeFunction('convertToInteractive',\n",
              "                                                     [key], {});\n",
              "          if (!dataTable) return;\n",
              "\n",
              "          const docLinkHtml = 'Like what you see? Visit the ' +\n",
              "            '<a target=\"_blank\" href=https://colab.research.google.com/notebooks/data_table.ipynb>data table notebook</a>'\n",
              "            + ' to learn more about interactive tables.';\n",
              "          element.innerHTML = '';\n",
              "          dataTable['output_type'] = 'display_data';\n",
              "          await google.colab.output.renderOutput(dataTable, element);\n",
              "          const docLink = document.createElement('div');\n",
              "          docLink.innerHTML = docLinkHtml;\n",
              "          element.appendChild(docLink);\n",
              "        }\n",
              "      </script>\n",
              "    </div>\n",
              "  </div>\n",
              "  "
            ]
          },
          "metadata": {},
          "execution_count": 71
        }
      ]
    },
    {
      "cell_type": "code",
      "source": [
        "Test_data.head()"
      ],
      "metadata": {
        "colab": {
          "base_uri": "https://localhost:8080/",
          "height": 206
        },
        "id": "nSslPckbyU_L",
        "outputId": "a06cd0ab-43fe-4a56-afc1-c333a7d26001"
      },
      "execution_count": 72,
      "outputs": [
        {
          "output_type": "execute_result",
          "data": {
            "text/plain": [
              "               Image_id\n",
              "0  id_00exusbkgzw1b.jpg\n",
              "1  id_03dqinf6w0znv.jpg\n",
              "2  id_046yl0cxn3ybz.jpg\n",
              "3  id_04athdtx2abyg.jpg\n",
              "4  id_062aauf9e9jk0.jpg"
            ],
            "text/html": [
              "\n",
              "  <div id=\"df-4252d19f-7ef3-4940-8be4-f49394529945\">\n",
              "    <div class=\"colab-df-container\">\n",
              "      <div>\n",
              "<style scoped>\n",
              "    .dataframe tbody tr th:only-of-type {\n",
              "        vertical-align: middle;\n",
              "    }\n",
              "\n",
              "    .dataframe tbody tr th {\n",
              "        vertical-align: top;\n",
              "    }\n",
              "\n",
              "    .dataframe thead th {\n",
              "        text-align: right;\n",
              "    }\n",
              "</style>\n",
              "<table border=\"1\" class=\"dataframe\">\n",
              "  <thead>\n",
              "    <tr style=\"text-align: right;\">\n",
              "      <th></th>\n",
              "      <th>Image_id</th>\n",
              "    </tr>\n",
              "  </thead>\n",
              "  <tbody>\n",
              "    <tr>\n",
              "      <th>0</th>\n",
              "      <td>id_00exusbkgzw1b.jpg</td>\n",
              "    </tr>\n",
              "    <tr>\n",
              "      <th>1</th>\n",
              "      <td>id_03dqinf6w0znv.jpg</td>\n",
              "    </tr>\n",
              "    <tr>\n",
              "      <th>2</th>\n",
              "      <td>id_046yl0cxn3ybz.jpg</td>\n",
              "    </tr>\n",
              "    <tr>\n",
              "      <th>3</th>\n",
              "      <td>id_04athdtx2abyg.jpg</td>\n",
              "    </tr>\n",
              "    <tr>\n",
              "      <th>4</th>\n",
              "      <td>id_062aauf9e9jk0.jpg</td>\n",
              "    </tr>\n",
              "  </tbody>\n",
              "</table>\n",
              "</div>\n",
              "      <button class=\"colab-df-convert\" onclick=\"convertToInteractive('df-4252d19f-7ef3-4940-8be4-f49394529945')\"\n",
              "              title=\"Convert this dataframe to an interactive table.\"\n",
              "              style=\"display:none;\">\n",
              "        \n",
              "  <svg xmlns=\"http://www.w3.org/2000/svg\" height=\"24px\"viewBox=\"0 0 24 24\"\n",
              "       width=\"24px\">\n",
              "    <path d=\"M0 0h24v24H0V0z\" fill=\"none\"/>\n",
              "    <path d=\"M18.56 5.44l.94 2.06.94-2.06 2.06-.94-2.06-.94-.94-2.06-.94 2.06-2.06.94zm-11 1L8.5 8.5l.94-2.06 2.06-.94-2.06-.94L8.5 2.5l-.94 2.06-2.06.94zm10 10l.94 2.06.94-2.06 2.06-.94-2.06-.94-.94-2.06-.94 2.06-2.06.94z\"/><path d=\"M17.41 7.96l-1.37-1.37c-.4-.4-.92-.59-1.43-.59-.52 0-1.04.2-1.43.59L10.3 9.45l-7.72 7.72c-.78.78-.78 2.05 0 2.83L4 21.41c.39.39.9.59 1.41.59.51 0 1.02-.2 1.41-.59l7.78-7.78 2.81-2.81c.8-.78.8-2.07 0-2.86zM5.41 20L4 18.59l7.72-7.72 1.47 1.35L5.41 20z\"/>\n",
              "  </svg>\n",
              "      </button>\n",
              "      \n",
              "  <style>\n",
              "    .colab-df-container {\n",
              "      display:flex;\n",
              "      flex-wrap:wrap;\n",
              "      gap: 12px;\n",
              "    }\n",
              "\n",
              "    .colab-df-convert {\n",
              "      background-color: #E8F0FE;\n",
              "      border: none;\n",
              "      border-radius: 50%;\n",
              "      cursor: pointer;\n",
              "      display: none;\n",
              "      fill: #1967D2;\n",
              "      height: 32px;\n",
              "      padding: 0 0 0 0;\n",
              "      width: 32px;\n",
              "    }\n",
              "\n",
              "    .colab-df-convert:hover {\n",
              "      background-color: #E2EBFA;\n",
              "      box-shadow: 0px 1px 2px rgba(60, 64, 67, 0.3), 0px 1px 3px 1px rgba(60, 64, 67, 0.15);\n",
              "      fill: #174EA6;\n",
              "    }\n",
              "\n",
              "    [theme=dark] .colab-df-convert {\n",
              "      background-color: #3B4455;\n",
              "      fill: #D2E3FC;\n",
              "    }\n",
              "\n",
              "    [theme=dark] .colab-df-convert:hover {\n",
              "      background-color: #434B5C;\n",
              "      box-shadow: 0px 1px 3px 1px rgba(0, 0, 0, 0.15);\n",
              "      filter: drop-shadow(0px 1px 2px rgba(0, 0, 0, 0.3));\n",
              "      fill: #FFFFFF;\n",
              "    }\n",
              "  </style>\n",
              "\n",
              "      <script>\n",
              "        const buttonEl =\n",
              "          document.querySelector('#df-4252d19f-7ef3-4940-8be4-f49394529945 button.colab-df-convert');\n",
              "        buttonEl.style.display =\n",
              "          google.colab.kernel.accessAllowed ? 'block' : 'none';\n",
              "\n",
              "        async function convertToInteractive(key) {\n",
              "          const element = document.querySelector('#df-4252d19f-7ef3-4940-8be4-f49394529945');\n",
              "          const dataTable =\n",
              "            await google.colab.kernel.invokeFunction('convertToInteractive',\n",
              "                                                     [key], {});\n",
              "          if (!dataTable) return;\n",
              "\n",
              "          const docLinkHtml = 'Like what you see? Visit the ' +\n",
              "            '<a target=\"_blank\" href=https://colab.research.google.com/notebooks/data_table.ipynb>data table notebook</a>'\n",
              "            + ' to learn more about interactive tables.';\n",
              "          element.innerHTML = '';\n",
              "          dataTable['output_type'] = 'display_data';\n",
              "          await google.colab.output.renderOutput(dataTable, element);\n",
              "          const docLink = document.createElement('div');\n",
              "          docLink.innerHTML = docLinkHtml;\n",
              "          element.appendChild(docLink);\n",
              "        }\n",
              "      </script>\n",
              "    </div>\n",
              "  </div>\n",
              "  "
            ]
          },
          "metadata": {},
          "execution_count": 72
        }
      ]
    },
    {
      "cell_type": "code",
      "source": [
        "images_path='/content/drive/MyDrive/Cropchallenge/Images/'"
      ],
      "metadata": {
        "id": "NlhIqdZA7Wip"
      },
      "execution_count": 73,
      "outputs": []
    },
    {
      "cell_type": "code",
      "source": [
        "train['Image_id']= [images_path+i for i in train.Image_id]"
      ],
      "metadata": {
        "id": "Hx_qEejl41XZ"
      },
      "execution_count": 74,
      "outputs": []
    },
    {
      "cell_type": "code",
      "source": [
        "train['Image_id']"
      ],
      "metadata": {
        "colab": {
          "base_uri": "https://localhost:8080/"
        },
        "id": "tQKDPjzJxtFG",
        "outputId": "522dfd3a-f266-4554-c2b5-64c94dcb34c4"
      },
      "execution_count": 75,
      "outputs": [
        {
          "output_type": "execute_result",
          "data": {
            "text/plain": [
              "0       /content/drive/MyDrive/Cropchallenge/Images/id...\n",
              "1       /content/drive/MyDrive/Cropchallenge/Images/id...\n",
              "2       /content/drive/MyDrive/Cropchallenge/Images/id...\n",
              "3       /content/drive/MyDrive/Cropchallenge/Images/id...\n",
              "4       /content/drive/MyDrive/Cropchallenge/Images/id...\n",
              "                              ...                        \n",
              "1614    /content/drive/MyDrive/Cropchallenge/Images/id...\n",
              "1615    /content/drive/MyDrive/Cropchallenge/Images/id...\n",
              "1616    /content/drive/MyDrive/Cropchallenge/Images/id...\n",
              "1617    /content/drive/MyDrive/Cropchallenge/Images/id...\n",
              "1618    /content/drive/MyDrive/Cropchallenge/Images/id...\n",
              "Name: Image_id, Length: 1619, dtype: object"
            ]
          },
          "metadata": {},
          "execution_count": 75
        }
      ]
    },
    {
      "cell_type": "code",
      "source": [
        "train.head()"
      ],
      "metadata": {
        "colab": {
          "base_uri": "https://localhost:8080/",
          "height": 206
        },
        "id": "ef71GUOvAT_C",
        "outputId": "ef686666-d9d1-4bca-8329-cdec9029d27e"
      },
      "execution_count": 76,
      "outputs": [
        {
          "output_type": "execute_result",
          "data": {
            "text/plain": [
              "                                            Image_id  Label\n",
              "0  /content/drive/MyDrive/Cropchallenge/Images/id...      1\n",
              "1  /content/drive/MyDrive/Cropchallenge/Images/id...      0\n",
              "2  /content/drive/MyDrive/Cropchallenge/Images/id...      0\n",
              "3  /content/drive/MyDrive/Cropchallenge/Images/id...      1\n",
              "4  /content/drive/MyDrive/Cropchallenge/Images/id...      1"
            ],
            "text/html": [
              "\n",
              "  <div id=\"df-30242c03-2939-437c-a77c-1a7c70724a74\">\n",
              "    <div class=\"colab-df-container\">\n",
              "      <div>\n",
              "<style scoped>\n",
              "    .dataframe tbody tr th:only-of-type {\n",
              "        vertical-align: middle;\n",
              "    }\n",
              "\n",
              "    .dataframe tbody tr th {\n",
              "        vertical-align: top;\n",
              "    }\n",
              "\n",
              "    .dataframe thead th {\n",
              "        text-align: right;\n",
              "    }\n",
              "</style>\n",
              "<table border=\"1\" class=\"dataframe\">\n",
              "  <thead>\n",
              "    <tr style=\"text-align: right;\">\n",
              "      <th></th>\n",
              "      <th>Image_id</th>\n",
              "      <th>Label</th>\n",
              "    </tr>\n",
              "  </thead>\n",
              "  <tbody>\n",
              "    <tr>\n",
              "      <th>0</th>\n",
              "      <td>/content/drive/MyDrive/Cropchallenge/Images/id...</td>\n",
              "      <td>1</td>\n",
              "    </tr>\n",
              "    <tr>\n",
              "      <th>1</th>\n",
              "      <td>/content/drive/MyDrive/Cropchallenge/Images/id...</td>\n",
              "      <td>0</td>\n",
              "    </tr>\n",
              "    <tr>\n",
              "      <th>2</th>\n",
              "      <td>/content/drive/MyDrive/Cropchallenge/Images/id...</td>\n",
              "      <td>0</td>\n",
              "    </tr>\n",
              "    <tr>\n",
              "      <th>3</th>\n",
              "      <td>/content/drive/MyDrive/Cropchallenge/Images/id...</td>\n",
              "      <td>1</td>\n",
              "    </tr>\n",
              "    <tr>\n",
              "      <th>4</th>\n",
              "      <td>/content/drive/MyDrive/Cropchallenge/Images/id...</td>\n",
              "      <td>1</td>\n",
              "    </tr>\n",
              "  </tbody>\n",
              "</table>\n",
              "</div>\n",
              "      <button class=\"colab-df-convert\" onclick=\"convertToInteractive('df-30242c03-2939-437c-a77c-1a7c70724a74')\"\n",
              "              title=\"Convert this dataframe to an interactive table.\"\n",
              "              style=\"display:none;\">\n",
              "        \n",
              "  <svg xmlns=\"http://www.w3.org/2000/svg\" height=\"24px\"viewBox=\"0 0 24 24\"\n",
              "       width=\"24px\">\n",
              "    <path d=\"M0 0h24v24H0V0z\" fill=\"none\"/>\n",
              "    <path d=\"M18.56 5.44l.94 2.06.94-2.06 2.06-.94-2.06-.94-.94-2.06-.94 2.06-2.06.94zm-11 1L8.5 8.5l.94-2.06 2.06-.94-2.06-.94L8.5 2.5l-.94 2.06-2.06.94zm10 10l.94 2.06.94-2.06 2.06-.94-2.06-.94-.94-2.06-.94 2.06-2.06.94z\"/><path d=\"M17.41 7.96l-1.37-1.37c-.4-.4-.92-.59-1.43-.59-.52 0-1.04.2-1.43.59L10.3 9.45l-7.72 7.72c-.78.78-.78 2.05 0 2.83L4 21.41c.39.39.9.59 1.41.59.51 0 1.02-.2 1.41-.59l7.78-7.78 2.81-2.81c.8-.78.8-2.07 0-2.86zM5.41 20L4 18.59l7.72-7.72 1.47 1.35L5.41 20z\"/>\n",
              "  </svg>\n",
              "      </button>\n",
              "      \n",
              "  <style>\n",
              "    .colab-df-container {\n",
              "      display:flex;\n",
              "      flex-wrap:wrap;\n",
              "      gap: 12px;\n",
              "    }\n",
              "\n",
              "    .colab-df-convert {\n",
              "      background-color: #E8F0FE;\n",
              "      border: none;\n",
              "      border-radius: 50%;\n",
              "      cursor: pointer;\n",
              "      display: none;\n",
              "      fill: #1967D2;\n",
              "      height: 32px;\n",
              "      padding: 0 0 0 0;\n",
              "      width: 32px;\n",
              "    }\n",
              "\n",
              "    .colab-df-convert:hover {\n",
              "      background-color: #E2EBFA;\n",
              "      box-shadow: 0px 1px 2px rgba(60, 64, 67, 0.3), 0px 1px 3px 1px rgba(60, 64, 67, 0.15);\n",
              "      fill: #174EA6;\n",
              "    }\n",
              "\n",
              "    [theme=dark] .colab-df-convert {\n",
              "      background-color: #3B4455;\n",
              "      fill: #D2E3FC;\n",
              "    }\n",
              "\n",
              "    [theme=dark] .colab-df-convert:hover {\n",
              "      background-color: #434B5C;\n",
              "      box-shadow: 0px 1px 3px 1px rgba(0, 0, 0, 0.15);\n",
              "      filter: drop-shadow(0px 1px 2px rgba(0, 0, 0, 0.3));\n",
              "      fill: #FFFFFF;\n",
              "    }\n",
              "  </style>\n",
              "\n",
              "      <script>\n",
              "        const buttonEl =\n",
              "          document.querySelector('#df-30242c03-2939-437c-a77c-1a7c70724a74 button.colab-df-convert');\n",
              "        buttonEl.style.display =\n",
              "          google.colab.kernel.accessAllowed ? 'block' : 'none';\n",
              "\n",
              "        async function convertToInteractive(key) {\n",
              "          const element = document.querySelector('#df-30242c03-2939-437c-a77c-1a7c70724a74');\n",
              "          const dataTable =\n",
              "            await google.colab.kernel.invokeFunction('convertToInteractive',\n",
              "                                                     [key], {});\n",
              "          if (!dataTable) return;\n",
              "\n",
              "          const docLinkHtml = 'Like what you see? Visit the ' +\n",
              "            '<a target=\"_blank\" href=https://colab.research.google.com/notebooks/data_table.ipynb>data table notebook</a>'\n",
              "            + ' to learn more about interactive tables.';\n",
              "          element.innerHTML = '';\n",
              "          dataTable['output_type'] = 'display_data';\n",
              "          await google.colab.output.renderOutput(dataTable, element);\n",
              "          const docLink = document.createElement('div');\n",
              "          docLink.innerHTML = docLinkHtml;\n",
              "          element.appendChild(docLink);\n",
              "        }\n",
              "      </script>\n",
              "    </div>\n",
              "  </div>\n",
              "  "
            ]
          },
          "metadata": {},
          "execution_count": 76
        }
      ]
    },
    {
      "cell_type": "code",
      "source": [
        "train['Label']=train['Label'].astype('str')"
      ],
      "metadata": {
        "id": "1hWPWV3O5cjO"
      },
      "execution_count": 85,
      "outputs": []
    },
    {
      "cell_type": "code",
      "source": [
        "Test_data['Image_id']= [images_path+i for i in Test_data.Image_id]"
      ],
      "metadata": {
        "id": "lxexINcHyTsK"
      },
      "execution_count": 77,
      "outputs": []
    },
    {
      "cell_type": "code",
      "source": [
        "Test_data"
      ],
      "metadata": {
        "colab": {
          "base_uri": "https://localhost:8080/",
          "height": 423
        },
        "id": "kHEG6w-T5oFu",
        "outputId": "b11bcec7-5b7a-44dd-8b70-fad015d5e48c"
      },
      "execution_count": 78,
      "outputs": [
        {
          "output_type": "execute_result",
          "data": {
            "text/plain": [
              "                                               Image_id\n",
              "0     /content/drive/MyDrive/Cropchallenge/Images/id...\n",
              "1     /content/drive/MyDrive/Cropchallenge/Images/id...\n",
              "2     /content/drive/MyDrive/Cropchallenge/Images/id...\n",
              "3     /content/drive/MyDrive/Cropchallenge/Images/id...\n",
              "4     /content/drive/MyDrive/Cropchallenge/Images/id...\n",
              "...                                                 ...\n",
              "1075  /content/drive/MyDrive/Cropchallenge/Images/id...\n",
              "1076  /content/drive/MyDrive/Cropchallenge/Images/id...\n",
              "1077  /content/drive/MyDrive/Cropchallenge/Images/id...\n",
              "1078  /content/drive/MyDrive/Cropchallenge/Images/id...\n",
              "1079  /content/drive/MyDrive/Cropchallenge/Images/id...\n",
              "\n",
              "[1080 rows x 1 columns]"
            ],
            "text/html": [
              "\n",
              "  <div id=\"df-445b834a-a7e8-43aa-afff-1dfd92f099c2\">\n",
              "    <div class=\"colab-df-container\">\n",
              "      <div>\n",
              "<style scoped>\n",
              "    .dataframe tbody tr th:only-of-type {\n",
              "        vertical-align: middle;\n",
              "    }\n",
              "\n",
              "    .dataframe tbody tr th {\n",
              "        vertical-align: top;\n",
              "    }\n",
              "\n",
              "    .dataframe thead th {\n",
              "        text-align: right;\n",
              "    }\n",
              "</style>\n",
              "<table border=\"1\" class=\"dataframe\">\n",
              "  <thead>\n",
              "    <tr style=\"text-align: right;\">\n",
              "      <th></th>\n",
              "      <th>Image_id</th>\n",
              "    </tr>\n",
              "  </thead>\n",
              "  <tbody>\n",
              "    <tr>\n",
              "      <th>0</th>\n",
              "      <td>/content/drive/MyDrive/Cropchallenge/Images/id...</td>\n",
              "    </tr>\n",
              "    <tr>\n",
              "      <th>1</th>\n",
              "      <td>/content/drive/MyDrive/Cropchallenge/Images/id...</td>\n",
              "    </tr>\n",
              "    <tr>\n",
              "      <th>2</th>\n",
              "      <td>/content/drive/MyDrive/Cropchallenge/Images/id...</td>\n",
              "    </tr>\n",
              "    <tr>\n",
              "      <th>3</th>\n",
              "      <td>/content/drive/MyDrive/Cropchallenge/Images/id...</td>\n",
              "    </tr>\n",
              "    <tr>\n",
              "      <th>4</th>\n",
              "      <td>/content/drive/MyDrive/Cropchallenge/Images/id...</td>\n",
              "    </tr>\n",
              "    <tr>\n",
              "      <th>...</th>\n",
              "      <td>...</td>\n",
              "    </tr>\n",
              "    <tr>\n",
              "      <th>1075</th>\n",
              "      <td>/content/drive/MyDrive/Cropchallenge/Images/id...</td>\n",
              "    </tr>\n",
              "    <tr>\n",
              "      <th>1076</th>\n",
              "      <td>/content/drive/MyDrive/Cropchallenge/Images/id...</td>\n",
              "    </tr>\n",
              "    <tr>\n",
              "      <th>1077</th>\n",
              "      <td>/content/drive/MyDrive/Cropchallenge/Images/id...</td>\n",
              "    </tr>\n",
              "    <tr>\n",
              "      <th>1078</th>\n",
              "      <td>/content/drive/MyDrive/Cropchallenge/Images/id...</td>\n",
              "    </tr>\n",
              "    <tr>\n",
              "      <th>1079</th>\n",
              "      <td>/content/drive/MyDrive/Cropchallenge/Images/id...</td>\n",
              "    </tr>\n",
              "  </tbody>\n",
              "</table>\n",
              "<p>1080 rows × 1 columns</p>\n",
              "</div>\n",
              "      <button class=\"colab-df-convert\" onclick=\"convertToInteractive('df-445b834a-a7e8-43aa-afff-1dfd92f099c2')\"\n",
              "              title=\"Convert this dataframe to an interactive table.\"\n",
              "              style=\"display:none;\">\n",
              "        \n",
              "  <svg xmlns=\"http://www.w3.org/2000/svg\" height=\"24px\"viewBox=\"0 0 24 24\"\n",
              "       width=\"24px\">\n",
              "    <path d=\"M0 0h24v24H0V0z\" fill=\"none\"/>\n",
              "    <path d=\"M18.56 5.44l.94 2.06.94-2.06 2.06-.94-2.06-.94-.94-2.06-.94 2.06-2.06.94zm-11 1L8.5 8.5l.94-2.06 2.06-.94-2.06-.94L8.5 2.5l-.94 2.06-2.06.94zm10 10l.94 2.06.94-2.06 2.06-.94-2.06-.94-.94-2.06-.94 2.06-2.06.94z\"/><path d=\"M17.41 7.96l-1.37-1.37c-.4-.4-.92-.59-1.43-.59-.52 0-1.04.2-1.43.59L10.3 9.45l-7.72 7.72c-.78.78-.78 2.05 0 2.83L4 21.41c.39.39.9.59 1.41.59.51 0 1.02-.2 1.41-.59l7.78-7.78 2.81-2.81c.8-.78.8-2.07 0-2.86zM5.41 20L4 18.59l7.72-7.72 1.47 1.35L5.41 20z\"/>\n",
              "  </svg>\n",
              "      </button>\n",
              "      \n",
              "  <style>\n",
              "    .colab-df-container {\n",
              "      display:flex;\n",
              "      flex-wrap:wrap;\n",
              "      gap: 12px;\n",
              "    }\n",
              "\n",
              "    .colab-df-convert {\n",
              "      background-color: #E8F0FE;\n",
              "      border: none;\n",
              "      border-radius: 50%;\n",
              "      cursor: pointer;\n",
              "      display: none;\n",
              "      fill: #1967D2;\n",
              "      height: 32px;\n",
              "      padding: 0 0 0 0;\n",
              "      width: 32px;\n",
              "    }\n",
              "\n",
              "    .colab-df-convert:hover {\n",
              "      background-color: #E2EBFA;\n",
              "      box-shadow: 0px 1px 2px rgba(60, 64, 67, 0.3), 0px 1px 3px 1px rgba(60, 64, 67, 0.15);\n",
              "      fill: #174EA6;\n",
              "    }\n",
              "\n",
              "    [theme=dark] .colab-df-convert {\n",
              "      background-color: #3B4455;\n",
              "      fill: #D2E3FC;\n",
              "    }\n",
              "\n",
              "    [theme=dark] .colab-df-convert:hover {\n",
              "      background-color: #434B5C;\n",
              "      box-shadow: 0px 1px 3px 1px rgba(0, 0, 0, 0.15);\n",
              "      filter: drop-shadow(0px 1px 2px rgba(0, 0, 0, 0.3));\n",
              "      fill: #FFFFFF;\n",
              "    }\n",
              "  </style>\n",
              "\n",
              "      <script>\n",
              "        const buttonEl =\n",
              "          document.querySelector('#df-445b834a-a7e8-43aa-afff-1dfd92f099c2 button.colab-df-convert');\n",
              "        buttonEl.style.display =\n",
              "          google.colab.kernel.accessAllowed ? 'block' : 'none';\n",
              "\n",
              "        async function convertToInteractive(key) {\n",
              "          const element = document.querySelector('#df-445b834a-a7e8-43aa-afff-1dfd92f099c2');\n",
              "          const dataTable =\n",
              "            await google.colab.kernel.invokeFunction('convertToInteractive',\n",
              "                                                     [key], {});\n",
              "          if (!dataTable) return;\n",
              "\n",
              "          const docLinkHtml = 'Like what you see? Visit the ' +\n",
              "            '<a target=\"_blank\" href=https://colab.research.google.com/notebooks/data_table.ipynb>data table notebook</a>'\n",
              "            + ' to learn more about interactive tables.';\n",
              "          element.innerHTML = '';\n",
              "          dataTable['output_type'] = 'display_data';\n",
              "          await google.colab.output.renderOutput(dataTable, element);\n",
              "          const docLink = document.createElement('div');\n",
              "          docLink.innerHTML = docLinkHtml;\n",
              "          element.appendChild(docLink);\n",
              "        }\n",
              "      </script>\n",
              "    </div>\n",
              "  </div>\n",
              "  "
            ]
          },
          "metadata": {},
          "execution_count": 78
        }
      ]
    },
    {
      "cell_type": "code",
      "source": [
        "import keras_preprocessing\n",
        "from keras_preprocessing import image\n",
        "from keras_preprocessing.image import ImageDataGenerator\n",
        "import numpy as np\n",
        "import keras\n",
        "from tensorflow.keras.applications.vgg19 import VGG19\n",
        "from tensorflow.keras.models import Model\n",
        "from tensorflow.keras.layers import Dense\n",
        "from tensorflow.keras.layers import Flatten"
      ],
      "metadata": {
        "id": "LzrUqxpuzpGw"
      },
      "execution_count": 96,
      "outputs": []
    },
    {
      "cell_type": "code",
      "source": [
        "vgg_model = VGG19(include_top=False, input_shape=(224, 224, 3))"
      ],
      "metadata": {
        "id": "1U6lsCpQ1EsD"
      },
      "execution_count": 80,
      "outputs": []
    },
    {
      "cell_type": "code",
      "source": [
        "for layer in vgg_model.layers:\n",
        "    layer.trainable=False\n",
        "pretrained_part = Flatten()(vgg_model.layers[-1].output)"
      ],
      "metadata": {
        "id": "fMZr1xSF1Nvj"
      },
      "execution_count": 81,
      "outputs": []
    },
    {
      "cell_type": "code",
      "source": [
        "class_ = Dense(256, activation='relu')(pretrained_part)\n",
        "output = Dense(2, activation='sigmoid')(class_)\n",
        "model = Model(inputs = vgg_model.inputs, outputs = output)\n"
      ],
      "metadata": {
        "id": "Ks3KA2jG1pPB"
      },
      "execution_count": 82,
      "outputs": []
    },
    {
      "cell_type": "code",
      "source": [
        "model.summary()"
      ],
      "metadata": {
        "colab": {
          "base_uri": "https://localhost:8080/"
        },
        "id": "fyh0z5jC45i4",
        "outputId": "6f74bafe-5c86-41cd-dad9-a6ef3af107d3"
      },
      "execution_count": 83,
      "outputs": [
        {
          "output_type": "stream",
          "name": "stdout",
          "text": [
            "Model: \"model_3\"\n",
            "_________________________________________________________________\n",
            " Layer (type)                Output Shape              Param #   \n",
            "=================================================================\n",
            " input_3 (InputLayer)        [(None, 224, 224, 3)]     0         \n",
            "                                                                 \n",
            " block1_conv1 (Conv2D)       (None, 224, 224, 64)      1792      \n",
            "                                                                 \n",
            " block1_conv2 (Conv2D)       (None, 224, 224, 64)      36928     \n",
            "                                                                 \n",
            " block1_pool (MaxPooling2D)  (None, 112, 112, 64)      0         \n",
            "                                                                 \n",
            " block2_conv1 (Conv2D)       (None, 112, 112, 128)     73856     \n",
            "                                                                 \n",
            " block2_conv2 (Conv2D)       (None, 112, 112, 128)     147584    \n",
            "                                                                 \n",
            " block2_pool (MaxPooling2D)  (None, 56, 56, 128)       0         \n",
            "                                                                 \n",
            " block3_conv1 (Conv2D)       (None, 56, 56, 256)       295168    \n",
            "                                                                 \n",
            " block3_conv2 (Conv2D)       (None, 56, 56, 256)       590080    \n",
            "                                                                 \n",
            " block3_conv3 (Conv2D)       (None, 56, 56, 256)       590080    \n",
            "                                                                 \n",
            " block3_conv4 (Conv2D)       (None, 56, 56, 256)       590080    \n",
            "                                                                 \n",
            " block3_pool (MaxPooling2D)  (None, 28, 28, 256)       0         \n",
            "                                                                 \n",
            " block4_conv1 (Conv2D)       (None, 28, 28, 512)       1180160   \n",
            "                                                                 \n",
            " block4_conv2 (Conv2D)       (None, 28, 28, 512)       2359808   \n",
            "                                                                 \n",
            " block4_conv3 (Conv2D)       (None, 28, 28, 512)       2359808   \n",
            "                                                                 \n",
            " block4_conv4 (Conv2D)       (None, 28, 28, 512)       2359808   \n",
            "                                                                 \n",
            " block4_pool (MaxPooling2D)  (None, 14, 14, 512)       0         \n",
            "                                                                 \n",
            " block5_conv1 (Conv2D)       (None, 14, 14, 512)       2359808   \n",
            "                                                                 \n",
            " block5_conv2 (Conv2D)       (None, 14, 14, 512)       2359808   \n",
            "                                                                 \n",
            " block5_conv3 (Conv2D)       (None, 14, 14, 512)       2359808   \n",
            "                                                                 \n",
            " block5_conv4 (Conv2D)       (None, 14, 14, 512)       2359808   \n",
            "                                                                 \n",
            " block5_pool (MaxPooling2D)  (None, 7, 7, 512)         0         \n",
            "                                                                 \n",
            " flatten_2 (Flatten)         (None, 25088)             0         \n",
            "                                                                 \n",
            " dense_6 (Dense)             (None, 256)               6422784   \n",
            "                                                                 \n",
            " dense_7 (Dense)             (None, 2)                 514       \n",
            "                                                                 \n",
            "=================================================================\n",
            "Total params: 26,447,682\n",
            "Trainable params: 6,423,298\n",
            "Non-trainable params: 20,024,384\n",
            "_________________________________________________________________\n"
          ]
        }
      ]
    },
    {
      "cell_type": "code",
      "source": [
        "TRAIN_GEN = ImageDataGenerator( \n",
        "    rescale=1./255, #normalisation of images\n",
        "    #Augmentation\n",
        "    rotation_range=40,\n",
        "    shear_range=0.2,\n",
        "    zoom_range =0.2,\n",
        "    fill_mode='nearest',\n",
        "    validation_split=0.2,\n",
        "    horizontal_flip= True)\n",
        "\n",
        "traindata = TRAIN_GEN.flow_from_dataframe(train,\n",
        "                                      x_col='Image_id',\n",
        "                                      y_col='Label',\n",
        "                                      target_size=(224,224),\n",
        "                                      class_mode='categorical',\n",
        "                                      subset='training',\n",
        "                                      seed=123,\n",
        "                                      batch_size=32)\n",
        "\n",
        "\n",
        "validationdata= TRAIN_GEN.flow_from_dataframe(train,\n",
        "                                    x_col='Image_id',\n",
        "                                    y_col='Label',\n",
        "                                    target_size=(224,224),\n",
        "                                    class_mode='categorical',\n",
        "                                    subset='validation',\n",
        "                                    seed=123,\n",
        "                                    batch_size=32)\n",
        "\n",
        "Test_gen=ImageDataGenerator(rescale=1./255)\n",
        "testdata= Test_gen.flow_from_dataframe(Test_data,\n",
        "                                    x_col='Image_id',\n",
        "                                    y_col=None,\n",
        "                                    target_size=(224,224),\n",
        "                                    class_mode=None,\n",
        "                                    seed=123,\n",
        "                                    shuffle=False,\n",
        "                                    batch_size=32)\n",
        "\n",
        "\n",
        "                                            \n"
      ],
      "metadata": {
        "colab": {
          "base_uri": "https://localhost:8080/"
        },
        "id": "UJBp_kJV12wB",
        "outputId": "1d906b4e-591e-4e4d-ef93-5baeb242c26a"
      },
      "execution_count": 86,
      "outputs": [
        {
          "output_type": "stream",
          "name": "stdout",
          "text": [
            "Found 1296 validated image filenames belonging to 2 classes.\n",
            "Found 323 validated image filenames belonging to 2 classes.\n",
            "Found 1080 validated image filenames.\n"
          ]
        }
      ]
    },
    {
      "cell_type": "code",
      "source": [
        "model.compile(optimizer='Adam',loss='binary_crossentropy',metrics=keras.metrics.AUC(name='auc'),)"
      ],
      "metadata": {
        "id": "k378s-5M7ifS"
      },
      "execution_count": 97,
      "outputs": []
    },
    {
      "cell_type": "code",
      "source": [
        "model.fit(traindata,\n",
        "          validation_data=validationdata,\n",
        "          epochs=15,\n",
        "          steps_per_epoch=10,\n",
        "          verbose=1)"
      ],
      "metadata": {
        "colab": {
          "base_uri": "https://localhost:8080/"
        },
        "id": "Oucxgpxq8ehb",
        "outputId": "a219c93a-29f6-423a-90b6-89ff1a354940"
      },
      "execution_count": 98,
      "outputs": [
        {
          "output_type": "stream",
          "name": "stdout",
          "text": [
            "Epoch 1/15\n",
            "10/10 [==============================] - 59s 6s/step - loss: 0.7130 - auc: 0.6779 - val_loss: 0.4762 - val_auc: 0.9165\n",
            "Epoch 2/15\n",
            "10/10 [==============================] - 53s 5s/step - loss: 0.4505 - auc: 0.8923 - val_loss: 0.4453 - val_auc: 0.8827\n",
            "10/10 [==============================] - 44s 4s/step - loss: 0.3996 - auc: 0.9043 - val_loss: 0.3483 - val_auc: 0.9375\n",
            "Epoch 4/15\n",
            "10/10 [==============================] - 34s 3s/step - loss: 0.3400 - auc: 0.9328 - val_loss: 0.3306 - val_auc: 0.9358\n",
            "Epoch 5/15\n",
            "10/10 [==============================] - 31s 3s/step - loss: 0.2665 - auc: 0.9629 - val_loss: 0.3083 - val_auc: 0.9508\n",
            "Epoch 6/15\n",
            "10/10 [==============================] - 30s 3s/step - loss: 0.2371 - auc: 0.9760 - val_loss: 0.2282 - val_auc: 0.9769\n",
            "Epoch 7/15\n",
            "10/10 [==============================] - 28s 3s/step - loss: 0.2117 - auc: 0.9771 - val_loss: 0.2111 - val_auc: 0.9797\n",
            "Epoch 8/15\n",
            "10/10 [==============================] - 25s 3s/step - loss: 0.1820 - auc: 0.9849 - val_loss: 0.1833 - val_auc: 0.9870\n",
            "Epoch 9/15\n",
            "10/10 [==============================] - 22s 2s/step - loss: 0.1517 - auc: 0.9918 - val_loss: 0.1794 - val_auc: 0.9864\n",
            "Epoch 10/15\n",
            "10/10 [==============================] - 20s 2s/step - loss: 0.1791 - auc: 0.9841 - val_loss: 0.1706 - val_auc: 0.9857\n",
            "Epoch 11/15\n",
            "10/10 [==============================] - 19s 2s/step - loss: 0.1391 - auc: 0.9912 - val_loss: 0.1593 - val_auc: 0.9888\n",
            "Epoch 12/15\n",
            "10/10 [==============================] - 20s 2s/step - loss: 0.1075 - auc: 0.9968 - val_loss: 0.1528 - val_auc: 0.9885\n",
            "Epoch 13/15\n",
            "10/10 [==============================] - 19s 2s/step - loss: 0.1013 - auc: 0.9979 - val_loss: 0.1386 - val_auc: 0.9911\n",
            "Epoch 14/15\n",
            "10/10 [==============================] - 19s 2s/step - loss: 0.1429 - auc: 0.9871 - val_loss: 0.1263 - val_auc: 0.9931\n",
            "Epoch 15/15\n",
            "10/10 [==============================] - 18s 2s/step - loss: 0.0876 - auc: 0.9978 - val_loss: 0.1235 - val_auc: 0.9932\n"
          ]
        },
        {
          "output_type": "execute_result",
          "data": {
            "text/plain": [
              "<keras.callbacks.History at 0x7f99a8429a50>"
            ]
          },
          "metadata": {},
          "execution_count": 98
        }
      ]
    },
    {
      "cell_type": "code",
      "source": [
        "predictions=model.predict(testdata)"
      ],
      "metadata": {
        "id": "pQ4UcXn4J8cn"
      },
      "execution_count": 100,
      "outputs": []
    },
    {
      "cell_type": "code",
      "source": [
        "predictions"
      ],
      "metadata": {
        "colab": {
          "base_uri": "https://localhost:8080/"
        },
        "id": "1PLszLiKSf0F",
        "outputId": "5ebd55f0-ae85-4a38-af37-3ed697eea7ce"
      },
      "execution_count": 110,
      "outputs": [
        {
          "output_type": "execute_result",
          "data": {
            "text/plain": [
              "array([[8.9139348e-01, 6.1930396e-02],\n",
              "       [9.3064922e-01, 4.1474022e-02],\n",
              "       [7.1575902e-05, 9.9997234e-01],\n",
              "       ...,\n",
              "       [9.4555813e-01, 2.1515366e-02],\n",
              "       [6.3822336e-02, 9.3531579e-01],\n",
              "       [1.8154952e-03, 9.9885201e-01]], dtype=float32)"
            ]
          },
          "metadata": {},
          "execution_count": 110
        }
      ]
    },
    {
      "cell_type": "code",
      "source": [
        "submit=pd.read_csv('/content/drive/MyDrive/Cropchallenge/SampleSubmission .csv')"
      ],
      "metadata": {
        "id": "7Kvn4GWWR3us"
      },
      "execution_count": 107,
      "outputs": []
    },
    {
      "cell_type": "code",
      "source": [
        "pred_labels=[i[1] for i in predictions]\n",
        "print(pred_labels)"
      ],
      "metadata": {
        "colab": {
          "base_uri": "https://localhost:8080/"
        },
        "id": "4xCjHng_W5rd",
        "outputId": "9554a0be-cf3e-4da2-8f57-be430b587957"
      },
      "execution_count": 124,
      "outputs": [
        {
          "output_type": "stream",
          "name": "stdout",
          "text": [
            "[0.061930396, 0.041474022, 0.99997234, 0.07787879, 0.055169504, 0.020351248, 0.9999082, 0.98374915, 0.006073675, 0.0120938085, 0.9990915, 0.9853402, 0.9893277, 0.02576334, 0.09682238, 0.99840325, 0.99945265, 0.99894077, 0.07770824, 0.036746457, 0.47310683, 0.03275901, 0.06826741, 0.022823539, 0.9996574, 0.0059258086, 0.9998591, 0.017734438, 0.024310961, 0.020844033, 0.1373625, 0.027572071, 0.8309295, 0.09922882, 0.0049644993, 0.99973387, 0.0070528765, 0.99996734, 0.99987483, 0.9999732, 0.0073536085, 0.9992593, 0.2802293, 0.99963534, 0.9995919, 0.99940777, 0.9998857, 0.99976915, 0.79325527, 0.9995989, 0.9826125, 0.8346401, 0.9994518, 0.029769436, 0.9544776, 0.99906224, 0.9967019, 0.99995804, 0.91700315, 0.9993542, 0.9881293, 0.70885986, 0.965872, 0.010045723, 0.9303301, 0.031565316, 0.9992879, 0.008521521, 0.30318338, 0.9991097, 0.16170299, 0.013059495, 0.99964905, 0.99715877, 0.98310983, 0.48157495, 0.99493164, 0.026421098, 0.017436119, 0.9826095, 0.06088507, 0.9965485, 0.010889773, 0.99999654, 0.023524383, 0.019646153, 0.016846066, 0.015258527, 0.0066035553, 0.8286096, 0.9722171, 0.18021911, 0.06818378, 0.09208251, 0.99980694, 0.98957133, 0.017513027, 0.07429318, 0.014102286, 0.99420303, 0.026494294, 0.9956722, 0.87670517, 0.99322116, 0.0060921665, 0.9938332, 0.99953425, 0.013922103, 0.9847802, 0.99936694, 0.98590547, 0.825702, 0.015492159, 0.79411316, 0.003951582, 0.030099057, 0.9998368, 0.1269629, 0.90155494, 0.9822254, 0.039430875, 0.9997578, 0.14698817, 0.99976224, 0.028506208, 0.99704933, 0.013224912, 0.99026406, 0.99946123, 0.045358278, 0.22351843, 0.12960503, 0.019253608, 0.96301067, 0.99996364, 0.93214357, 0.68148935, 0.014043092, 0.980355, 0.9990854, 0.18715224, 0.0624805, 0.99932134, 0.99910957, 0.99478734, 0.7412905, 0.042760175, 0.669093, 0.99882716, 0.9999765, 0.9999527, 0.039019182, 0.00732143, 0.0073106526, 0.0038589914, 0.9998754, 0.012862343, 0.015918376, 0.99985576, 0.99753237, 0.9890288, 0.043439258, 0.035284866, 0.111913905, 0.93473226, 0.04514558, 0.9989135, 0.020034611, 0.0026854824, 0.96745354, 0.018293658, 0.012374621, 0.25469956, 0.97377497, 0.12084122, 0.09608468, 0.9669882, 0.99338335, 0.013396825, 0.99986494, 0.03553728, 0.9990061, 0.98081756, 0.07000034, 0.0034681584, 0.014163541, 0.9151714, 0.027482752, 0.07152618, 0.96961176, 0.9978364, 0.007078523, 0.999818, 0.99663806, 0.026359374, 0.99947685, 0.050912436, 0.124524824, 0.372906, 0.9999856, 0.013493146, 0.9996748, 0.035765678, 0.867754, 0.42958114, 0.9988636, 0.9995484, 0.093409, 0.03229556, 0.9999443, 0.020405699, 0.011718247, 0.0686202, 0.99686843, 0.9982449, 0.34941474, 0.020195903, 0.0550978, 0.98728997, 0.006710271, 0.9999845, 0.022250593, 0.026846468, 0.009906179, 0.010213354, 0.9999827, 0.010346358, 0.43022195, 0.005725633, 0.9866058, 0.9746902, 0.04543301, 0.041164942, 0.9989058, 0.96432585, 0.006190144, 0.9984439, 0.9993223, 0.004874305, 0.9999416, 0.9999831, 0.9943758, 0.8402869, 0.8182466, 0.99688417, 0.096245214, 0.07429833, 0.9996357, 0.013328195, 0.08965993, 0.07190694, 0.9417999, 0.9906006, 0.040051743, 0.005601924, 0.99945384, 0.03431476, 0.07172015, 0.03688002, 0.99945956, 0.015594778, 0.99195194, 0.99965596, 0.0060070995, 0.018456943, 0.9987601, 0.03870127, 0.99844164, 0.99642414, 0.9975823, 0.90199155, 0.99991846, 0.997512, 0.025487581, 0.9973123, 0.9999385, 0.034398083, 0.99746764, 0.8022137, 0.041103046, 0.9986117, 0.04622089, 0.99982446, 0.0073644444, 0.012961842, 0.018664632, 0.012994778, 0.011116958, 0.05144062, 0.02887126, 0.01093263, 0.021355314, 0.98836285, 0.9970463, 0.062173463, 0.021360328, 0.05760742, 0.008897236, 0.99970895, 0.015177142, 0.9747399, 0.0042828727, 0.5109887, 0.71028185, 0.9936692, 0.62055546, 0.008866024, 0.98126984, 0.022157695, 0.15337522, 0.98906124, 0.99525464, 0.011664532, 0.1380482, 0.012462504, 0.99978846, 0.023399912, 0.02648756, 0.9851312, 0.9996024, 0.65153223, 0.99911255, 0.04204411, 0.010763568, 0.56193846, 0.97450495, 0.008941106, 0.023027081, 0.011348331, 0.008858145, 0.9999478, 0.49490494, 0.03543117, 0.114452995, 0.98660594, 0.008907872, 0.17562719, 0.08736386, 0.03283738, 0.9648506, 0.09008682, 0.41327927, 0.99855727, 0.9990085, 0.99100643, 0.05516761, 0.031054242, 0.026754523, 0.34451967, 0.99524224, 0.9999713, 0.43001682, 0.1936009, 0.9998841, 0.025821824, 0.006619023, 0.99298733, 0.95934045, 0.87955636, 0.9997105, 0.046518255, 0.9887024, 0.10161546, 0.9907284, 0.12118566, 0.8602886, 0.07468315, 0.9999865, 0.99945766, 0.999943, 0.9990375, 0.99999046, 0.9996939, 0.92104065, 0.98211837, 0.04186917, 0.35111788, 0.016686926, 0.9594458, 0.02188905, 0.85030663, 0.99952877, 0.07241691, 0.9783512, 0.025729515, 0.084791005, 0.00849317, 0.056996476, 0.07303295, 0.0356489, 0.005928225, 0.96715754, 0.9999707, 0.21429332, 0.97398925, 0.21272004, 0.99982387, 0.99945396, 0.016861562, 0.020534007, 0.04317054, 0.18423747, 0.002610078, 0.998271, 0.67447203, 0.1415421, 0.0147412615, 0.9997359, 0.9730454, 0.026899297, 0.09357152, 0.99445784, 0.9909148, 0.9999908, 0.041635934, 0.7309226, 0.99530894, 0.040343076, 0.30064854, 0.9976799, 0.022712378, 0.022640709, 0.087009855, 0.0057732873, 0.9572414, 0.74060583, 0.99482983, 0.9710849, 0.013192948, 0.88466513, 0.9995222, 0.9983706, 0.9997118, 0.99668014, 0.9862386, 0.0706424, 0.9992743, 0.004766768, 0.9919457, 0.07890611, 0.011549572, 0.089014955, 0.99604046, 0.017253002, 0.9973054, 0.017433776, 0.0056608804, 0.00882792, 0.05839933, 0.06331653, 0.005862951, 0.9999652, 0.02402539, 0.033603523, 0.98954517, 0.005940411, 0.2533205, 0.011483743, 0.046209626, 0.006214415, 0.0037831925, 0.32916173, 0.046026375, 0.9999496, 0.039577886, 0.13568224, 0.039750643, 0.0032464247, 0.99971443, 0.108786166, 0.018840251, 0.99762815, 0.005138831, 0.009531727, 0.07122953, 0.2504509, 0.99971825, 0.9999163, 0.0146766, 0.98586833, 0.99728155, 0.98347545, 0.019308213, 0.08486313, 0.006374851, 0.98911893, 0.99900347, 0.9987411, 0.01168163, 0.048271436, 0.013247512, 0.051268045, 0.99959356, 0.9998914, 0.52551913, 0.054073572, 0.96899444, 0.022580227, 0.99823475, 0.004314481, 0.023938626, 0.9984364, 0.9871594, 0.58237755, 0.832724, 0.16144149, 0.05696394, 0.008725854, 0.19952336, 0.9999796, 0.9997012, 0.9948196, 0.009854927, 0.9977703, 0.99993837, 0.0073668403, 0.009416458, 0.9997249, 0.95486104, 0.015429925, 0.048783567, 0.04183091, 0.15807445, 0.012258625, 0.006658626, 0.9553959, 0.7312281, 0.119153656, 0.055515923, 0.87222636, 0.9478817, 0.9999809, 0.016667055, 0.038469747, 0.026758917, 0.013156327, 0.99796695, 0.015175896, 0.918575, 0.98416626, 0.99968266, 0.052587695, 0.042030428, 0.9999386, 0.9380966, 0.14354593, 0.37370735, 0.011948143, 0.9953549, 0.007751871, 0.9971379, 0.9999937, 0.0057611503, 0.056672856, 0.9999304, 0.9999747, 0.9986206, 0.9997204, 0.9752714, 0.9994456, 0.03728934, 0.9732603, 0.013504519, 0.9399683, 0.8447036, 0.015139584, 0.015149237, 0.12719111, 0.9992193, 0.97970736, 0.9958841, 0.015345767, 0.9993907, 0.0077040005, 0.0021862106, 0.9994112, 0.99991167, 0.046946812, 0.94910216, 0.86661154, 0.9999887, 0.038213387, 0.9670711, 0.16820955, 0.12646164, 0.3681812, 0.9797243, 0.8275355, 0.99975675, 0.0076982467, 0.010123022, 0.99999535, 0.0067967596, 0.07094714, 0.017594991, 0.798345, 0.06554539, 0.5462916, 0.27016988, 0.99930716, 0.99291444, 0.9997551, 0.9976019, 0.040247943, 0.99830246, 0.99998975, 0.9964725, 0.0024563007, 0.6050873, 0.9979315, 0.9199872, 0.023992177, 0.98985237, 0.21339802, 0.06501576, 0.99856913, 0.003035853, 0.07630449, 0.8503904, 0.02813763, 0.9751373, 0.9999541, 0.9892545, 0.12595452, 0.003274406, 0.003893924, 0.013089017, 0.036416955, 0.9961273, 0.085174195, 0.9853976, 0.9990676, 0.05633007, 0.016128408, 0.99796426, 0.7436517, 0.99765116, 0.9996942, 0.9997904, 0.054332428, 0.017852627, 0.017223138, 0.014810392, 0.962936, 0.98973525, 0.048999447, 0.99886656, 0.032566097, 0.5983975, 0.0099911, 0.019162228, 0.024360385, 0.99938273, 0.9846966, 0.91640437, 0.9986706, 0.9998733, 0.084804714, 0.0075782454, 0.010226212, 0.99977857, 0.028532993, 0.9995504, 0.96404725, 0.15276527, 0.99286544, 0.9999783, 0.99242216, 0.27105042, 0.6624426, 0.9923288, 0.93984634, 0.99273235, 0.8131227, 0.98043895, 0.013414251, 0.100722946, 0.040888704, 0.02257021, 0.9999684, 0.9940064, 0.16454464, 0.9919252, 0.91650397, 0.009751563, 0.20767613, 0.9997142, 0.8679395, 0.99876887, 0.9960543, 0.9973788, 0.009507488, 0.9725911, 0.11187106, 0.01983487, 0.99848026, 0.009416663, 0.96811163, 0.9983499, 0.99842787, 0.9158231, 0.025228884, 0.0047673606, 0.99989927, 0.9928139, 0.06894691, 0.99810326, 0.08079007, 0.997003, 0.99785244, 0.0073269117, 0.020316279, 0.014599157, 0.006483544, 0.9868363, 0.09031291, 0.007818023, 0.09467243, 0.059315294, 0.05362196, 0.021216376, 0.0092347795, 0.99984944, 0.9897058, 0.9999039, 0.042720124, 0.9663607, 0.22534552, 0.99836296, 0.94646925, 0.028356152, 0.9999528, 0.02143269, 0.019649904, 0.9999027, 0.047881458, 0.29201034, 0.99900085, 0.006831347, 0.99995065, 0.054009084, 0.9995908, 0.858621, 0.08513835, 0.011198879, 0.01524308, 0.23153816, 0.0156135345, 0.66790724, 0.042646002, 0.010582839, 0.023923809, 0.85419965, 0.10830185, 0.9997392, 0.9056926, 0.99881375, 0.034845557, 0.6622903, 0.74587554, 0.0052292235, 0.9041836, 0.04412688, 0.066014156, 0.018692916, 0.9787628, 0.99953425, 0.35528797, 0.9827535, 0.99986947, 0.010835786, 0.8702999, 0.999071, 0.18584447, 0.9863323, 0.03529878, 0.030149678, 0.98385483, 0.9405231, 0.006053894, 0.996347, 0.9897125, 0.63028526, 0.9947353, 0.65442866, 0.58902156, 0.0225856, 0.17639945, 0.012853379, 0.9469593, 0.008912116, 0.9992085, 0.9985189, 0.9996697, 0.98746186, 0.038216032, 0.031100795, 0.9843463, 0.9971301, 0.9984211, 0.05441272, 0.0050396128, 0.9971119, 0.007986589, 0.98732126, 0.008482219, 0.9999808, 0.78185695, 0.034950502, 0.23412184, 0.95135933, 0.2351872, 0.023565996, 0.9976962, 0.9999795, 0.7142087, 0.99803, 0.99229914, 0.007902, 0.013374627, 0.013806639, 0.9468287, 0.9999536, 0.9795965, 0.99977225, 0.9995105, 0.98664373, 0.99997187, 0.99930143, 0.022858512, 0.022644352, 0.028877685, 0.99933845, 0.032195102, 0.98635256, 0.036978107, 0.96527207, 0.05999983, 0.008220462, 0.21651897, 0.87462527, 0.036604956, 0.4029065, 0.044789165, 0.999954, 0.99587387, 0.057443704, 0.9940936, 0.03923489, 0.87432873, 0.10181159, 0.983914, 0.91748387, 0.988884, 0.03950709, 0.0305401, 0.15330063, 0.20625886, 0.013322571, 0.95934975, 0.99846244, 0.99567974, 0.9993119, 0.020018619, 0.9993315, 0.035721008, 0.051916055, 0.0031429853, 0.008211394, 0.953557, 0.9998889, 0.59791434, 0.008304013, 0.9715645, 0.02660562, 0.83838165, 0.99935776, 0.038329855, 0.020119, 0.07764579, 0.998696, 0.9990528, 0.13347144, 0.95342785, 0.08309024, 0.9370394, 0.23463297, 0.05877169, 0.0097286645, 0.9986972, 0.9973181, 0.020270916, 0.009765969, 0.9896981, 0.021956552, 0.080497265, 0.008587925, 0.11843405, 0.9491741, 0.04237807, 0.05966718, 0.99898475, 0.1682118, 0.99820626, 0.0042472403, 0.63711256, 0.12574701, 0.9999168, 0.008196026, 0.079841316, 0.15675046, 0.9996669, 0.013793782, 0.006699968, 0.9953904, 0.018398004, 0.02417594, 0.9834284, 0.97552943, 0.17884362, 0.99942625, 0.99999297, 0.6898414, 0.014609126, 0.6395359, 0.98955184, 0.08280747, 0.98370415, 0.99995136, 0.052671336, 0.91289294, 0.07844434, 0.6602317, 0.7689203, 0.026884753, 0.009155233, 0.074267566, 0.8291052, 0.021800524, 0.9997111, 0.99985385, 0.9977156, 0.9974197, 0.9863862, 0.99284714, 0.020233417, 0.21771868, 0.9347763, 0.09404434, 0.03659856, 0.007511968, 0.99906844, 0.99229515, 0.99979883, 0.028527727, 0.024924066, 0.038998216, 0.09986577, 0.99536926, 0.056221303, 0.041446857, 0.9510652, 0.60321254, 0.9441047, 0.96406335, 0.009636018, 0.8273218, 0.022462502, 0.9481791, 0.9976941, 0.91206336, 0.02103961, 0.009226175, 0.49531195, 0.043565974, 0.9964045, 0.024417179, 0.99997866, 0.99990714, 0.07977275, 0.043069992, 0.94858164, 0.99972147, 0.007516284, 0.9988487, 0.007418532, 0.64250296, 0.017000085, 0.9993191, 0.95905197, 0.0043368028, 0.075960614, 0.013222168, 0.0043196585, 0.012835072, 0.11838752, 0.140823, 0.0064404914, 0.9917481, 0.83953774, 0.36313334, 0.7356261, 0.99955636, 0.8657329, 0.9999535, 0.99967253, 0.16137847, 0.99214655, 0.83193946, 0.025580894, 0.062053803, 0.18848126, 0.19800448, 0.019147748, 0.9959168, 0.004166996, 0.99990106, 0.15410805, 0.95433503, 0.0067670355, 0.04925992, 0.4993917, 0.0073201377, 0.9329384, 0.02686991, 0.999411, 0.12986614, 0.010274497, 0.9739953, 0.9444473, 0.99792516, 0.99894124, 0.008689711, 0.9997359, 0.16105247, 0.99996686, 0.03548929, 0.9997613, 0.23595768, 0.12693407, 0.010591876, 0.9678092, 0.998073, 0.9980981, 0.0669833, 0.01480352, 0.99993527, 0.9350963, 0.9997569, 0.12948711, 0.010827872, 0.07995789, 0.9967026, 0.033598956, 0.9988778, 0.9990695, 0.9990165, 0.07366374, 0.9948972, 0.9994824, 0.9995214, 0.021466248, 0.9944654, 0.12157065, 0.10422136, 0.9862737, 0.97604614, 0.0031488084, 0.9996401, 0.9931452, 0.5767246, 0.010697522, 0.4007705, 0.026723685, 0.004395668, 0.9992028, 0.052355785, 0.021515366, 0.9353158, 0.998852]\n"
          ]
        }
      ]
    },
    {
      "cell_type": "code",
      "source": [
        "submission = pd.DataFrame({ 'Image_id':submit.Image_id.values, 'Label': pred_labels})\n",
        "submission.to_csv(\"my_submission.csv\", index=False)"
      ],
      "metadata": {
        "id": "Bn4JFyFzNNvM"
      },
      "execution_count": 126,
      "outputs": []
    }
  ]
}